{
 "cells": [
  {
   "cell_type": "code",
   "execution_count": 28,
   "metadata": {
    "id": "pCG6snlqrwid"
   },
   "outputs": [],
   "source": [
    "import requests\n",
    "from bs4 import BeautifulSoup\n",
    "import time"
   ]
  },
  {
   "cell_type": "code",
   "execution_count": 29,
   "metadata": {
    "id": "zc26BzaSr_fo"
   },
   "outputs": [],
   "source": [
    "url = \"https://tapemark.narod.ru/les/\""
   ]
  },
  {
   "cell_type": "code",
   "execution_count": 30,
   "metadata": {
    "id": "ftTdAWj3zg3t"
   },
   "outputs": [],
   "source": [
    "def get_definition(link, start_url):\n",
    "    term = link.text.strip()\n",
    "    term_url = start_url + link.get('href')\n",
    "\n",
    "    term_response = requests.get(term_url)\n",
    "    term_soup = BeautifulSoup(term_response.content, 'html.parser')\n",
    "\n",
    "    term_response = requests.get(term_url)\n",
    "    term_soup = BeautifulSoup(term_response.content, 'html.parser')\n",
    "    body = term_soup.find('div', class_=\"body\")\n",
    "    if body:\n",
    "        definition = body.find('p').text.strip() if body.find('p') else 'not found'\n",
    "        definition = definition.replace('\\xa0', ' ').replace('\\n', ' ').replace('\\xad', '')\n",
    "    else:\n",
    "        definition = 'not found'\n",
    "    return definition"
   ]
  },
  {
   "cell_type": "code",
   "execution_count": 31,
   "metadata": {
    "id": "vVOfZpCA12oa"
   },
   "outputs": [],
   "source": [
    "def collect_yartseva_data(start_url):\n",
    "    term_definitions = {}\n",
    "    links = []\n",
    "    response = requests.get(start_url)\n",
    "    if response.status_code == 200:\n",
    "        soup = BeautifulSoup(response.content, 'html.parser')\n",
    "        links = soup.find_all('a')\n",
    "    links = links[37::]\n",
    "    for i, link in enumerate(links):\n",
    "        if i % 10 == 0:\n",
    "            print('crauling ' + str(i) + '/' + str(len(links)))\n",
    "        term = link.get_text()\n",
    "        definition = get_definition(link, start_url)\n",
    "        term_definitions[term] = definition\n",
    "    return term_definitions"
   ]
  },
  {
   "cell_type": "code",
   "execution_count": 32,
   "metadata": {
    "colab": {
     "base_uri": "https://localhost:8080/"
    },
    "id": "Hv_FNQXh3QjA",
    "outputId": "1183e66a-afa5-45dc-cd5e-05fe306e97fd"
   },
   "outputs": [
    {
     "name": "stdout",
     "output_type": "stream",
     "text": [
      "crauling 0/1407\n",
      "crauling 10/1407\n",
      "crauling 20/1407\n",
      "crauling 30/1407\n",
      "crauling 40/1407\n",
      "crauling 50/1407\n",
      "crauling 60/1407\n",
      "crauling 70/1407\n",
      "crauling 80/1407\n",
      "crauling 90/1407\n",
      "crauling 100/1407\n",
      "crauling 110/1407\n",
      "crauling 120/1407\n",
      "crauling 130/1407\n",
      "crauling 140/1407\n",
      "crauling 150/1407\n",
      "crauling 160/1407\n",
      "crauling 170/1407\n",
      "crauling 180/1407\n",
      "crauling 190/1407\n",
      "crauling 200/1407\n",
      "crauling 210/1407\n",
      "crauling 220/1407\n",
      "crauling 230/1407\n",
      "crauling 240/1407\n",
      "crauling 250/1407\n",
      "crauling 260/1407\n",
      "crauling 270/1407\n",
      "crauling 280/1407\n",
      "crauling 290/1407\n",
      "crauling 300/1407\n",
      "crauling 310/1407\n",
      "crauling 320/1407\n",
      "crauling 330/1407\n",
      "crauling 340/1407\n",
      "crauling 350/1407\n",
      "crauling 360/1407\n",
      "crauling 370/1407\n",
      "crauling 380/1407\n",
      "crauling 390/1407\n",
      "crauling 400/1407\n",
      "crauling 410/1407\n",
      "crauling 420/1407\n",
      "crauling 430/1407\n",
      "crauling 440/1407\n",
      "crauling 450/1407\n",
      "crauling 460/1407\n",
      "crauling 470/1407\n",
      "crauling 480/1407\n",
      "crauling 490/1407\n",
      "crauling 500/1407\n",
      "crauling 510/1407\n",
      "crauling 520/1407\n",
      "crauling 530/1407\n",
      "crauling 540/1407\n",
      "crauling 550/1407\n",
      "crauling 560/1407\n",
      "crauling 570/1407\n",
      "crauling 580/1407\n",
      "crauling 590/1407\n",
      "crauling 600/1407\n",
      "crauling 610/1407\n",
      "crauling 620/1407\n",
      "crauling 630/1407\n",
      "crauling 640/1407\n",
      "crauling 650/1407\n",
      "crauling 660/1407\n",
      "crauling 670/1407\n",
      "crauling 680/1407\n",
      "crauling 690/1407\n",
      "crauling 700/1407\n",
      "crauling 710/1407\n",
      "crauling 720/1407\n",
      "crauling 730/1407\n",
      "crauling 740/1407\n",
      "crauling 750/1407\n",
      "crauling 760/1407\n",
      "crauling 770/1407\n",
      "crauling 780/1407\n",
      "crauling 790/1407\n",
      "crauling 800/1407\n",
      "crauling 810/1407\n",
      "crauling 820/1407\n",
      "crauling 830/1407\n",
      "crauling 840/1407\n",
      "crauling 850/1407\n",
      "crauling 860/1407\n",
      "crauling 870/1407\n",
      "crauling 880/1407\n",
      "crauling 890/1407\n",
      "crauling 900/1407\n",
      "crauling 910/1407\n",
      "crauling 920/1407\n",
      "crauling 930/1407\n",
      "crauling 940/1407\n",
      "crauling 950/1407\n",
      "crauling 960/1407\n",
      "crauling 970/1407\n",
      "crauling 980/1407\n",
      "crauling 990/1407\n",
      "crauling 1000/1407\n",
      "crauling 1010/1407\n",
      "crauling 1020/1407\n",
      "crauling 1030/1407\n",
      "crauling 1040/1407\n",
      "crauling 1050/1407\n",
      "crauling 1060/1407\n",
      "crauling 1070/1407\n",
      "crauling 1080/1407\n",
      "crauling 1090/1407\n",
      "crauling 1100/1407\n",
      "crauling 1110/1407\n",
      "crauling 1120/1407\n",
      "crauling 1130/1407\n",
      "crauling 1140/1407\n",
      "crauling 1150/1407\n",
      "crauling 1160/1407\n",
      "crauling 1170/1407\n",
      "crauling 1180/1407\n",
      "crauling 1190/1407\n",
      "crauling 1200/1407\n",
      "crauling 1210/1407\n",
      "crauling 1220/1407\n",
      "crauling 1230/1407\n",
      "crauling 1240/1407\n",
      "crauling 1250/1407\n",
      "crauling 1260/1407\n",
      "crauling 1270/1407\n",
      "crauling 1280/1407\n",
      "crauling 1290/1407\n",
      "crauling 1300/1407\n",
      "crauling 1310/1407\n",
      "crauling 1320/1407\n",
      "crauling 1330/1407\n",
      "crauling 1340/1407\n",
      "crauling 1350/1407\n",
      "crauling 1360/1407\n",
      "crauling 1370/1407\n",
      "crauling 1380/1407\n",
      "crauling 1390/1407\n",
      "crauling 1400/1407\n"
     ]
    },
    {
     "name": "stderr",
     "output_type": "stream",
     "text": [
      "WARNING:bs4.dammit:Some characters could not be decoded, and were replaced with REPLACEMENT CHARACTER.\n",
      "WARNING:bs4.dammit:Some characters could not be decoded, and were replaced with REPLACEMENT CHARACTER.\n"
     ]
    }
   ],
   "source": [
    "term_definitions = collect_yartseva_data(url)"
   ]
  },
  {
   "cell_type": "code",
   "execution_count": 33,
   "metadata": {
    "id": "H0t4NEj2Fdkm"
   },
   "outputs": [],
   "source": [
    "with open('definitions.txt', 'a', encoding='utf-8') as f:\n",
    "    for k, v in term_definitions.items():\n",
    "        line = 'term: ' + k + ', definition: ' + v + '\\n'\n",
    "        f.write(line)"
   ]
  },
  {
   "cell_type": "code",
   "execution_count": null,
   "metadata": {
    "id": "5unKZUTNEhf-"
   },
   "outputs": [],
   "source": []
  }
 ],
 "metadata": {
  "colab": {
   "provenance": []
  },
  "kernelspec": {
   "display_name": "Python 3 (ipykernel)",
   "language": "python",
   "name": "python3"
  },
  "language_info": {
   "codemirror_mode": {
    "name": "ipython",
    "version": 3
   },
   "file_extension": ".py",
   "mimetype": "text/x-python",
   "name": "python",
   "nbconvert_exporter": "python",
   "pygments_lexer": "ipython3",
   "version": "3.9.13"
  }
 },
 "nbformat": 4,
 "nbformat_minor": 1
}
