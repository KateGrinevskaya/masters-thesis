{
 "cells": [
  {
   "cell_type": "code",
   "execution_count": 1,
   "metadata": {
    "id": "pCG6snlqrwid"
   },
   "outputs": [],
   "source": [
    "import requests\n",
    "from bs4 import BeautifulSoup\n",
    "import time"
   ]
  },
  {
   "cell_type": "code",
   "execution_count": 2,
   "metadata": {
    "id": "zc26BzaSr_fo"
   },
   "outputs": [],
   "source": [
    "url = \"https://ru.wiktionary.org/wiki/%D0%9A%D0%B0%D1%82%D0%B5%D0%B3%D0%BE%D1%80%D0%B8%D1%8F:%D0%9B%D0%B8%D0%BD%D0%B3%D0%B2%D0%B8%D1%81%D1%82%D0%B8%D1%87%D0%B5%D1%81%D0%BA%D0%B8%D0%B5_%D1%82%D0%B5%D1%80%D0%BC%D0%B8%D0%BD%D1%8B/ru\""
   ]
  },
  {
   "cell_type": "code",
   "execution_count": 3,
   "metadata": {
    "id": "dn7rENkDsEm-"
   },
   "outputs": [],
   "source": [
    "def get_terms_and_definitions(soup_obj, term_definitions):\n",
    "    term_links = soup_obj.find_all(\"div\", class_=\"mw-category-group\")[0].find_all(\"a\")\n",
    "\n",
    "    for link in term_links:\n",
    "        term_url = \"https://ru.wiktionary.org\" + link['href']\n",
    "        term_title = link.get_text()\n",
    "        term_response = requests.get(term_url)\n",
    "\n",
    "        if term_response.status_code == 200:\n",
    "            term_soup = BeautifulSoup(term_response.content, 'html.parser')\n",
    "            # Предполагается, что первое определение всегда под заголовком \"Значение\"\n",
    "            meaning_section = term_soup.find(\"div\", {\"class\": \"mw-heading mw-heading4\"})\n",
    "            meaning_list = meaning_section.find_next(\"ol\")\n",
    "            if meaning_list:\n",
    "                meanings = meaning_list.find_all(\"li\")\n",
    "            if meanings:\n",
    "                meanings = list(map(lambda x: x.get_text().strip().split('◆')[0], meanings))\n",
    "                ling_meanings = list(filter(lambda x: 'лингв.' in x, meanings))\n",
    "                if ling_meanings:\n",
    "                    ling_meanings = list(map(lambda x: x.split('лингв.')[-1], ling_meanings))\n",
    "                    meanings = ling_meanings\n",
    "                definition_text = meanings[0]\n",
    "                term_definitions[term_title] = definition_text\n",
    "\n",
    "        # Удержание времени, чтобы избежать перегрузки сервера\n",
    "        time.sleep(1)\n",
    "\n",
    "    return term_definitions"
   ]
  },
  {
   "cell_type": "code",
   "execution_count": 4,
   "metadata": {
    "id": "ftTdAWj3zg3t"
   },
   "outputs": [],
   "source": [
    "def get_next_link(soup_page):\n",
    "    next_pages = soup_page.find_all(\"div\", id=\"mw-pages\")[0].find_all(\"a\")\n",
    "    next_pages = list(filter(lambda x: 'Следующая страница' in x.get_text(), next_pages))\n",
    "    if len(next_pages) > 0 and next_pages[0]['href']:\n",
    "        return \"https://ru.wiktionary.org\" + next_pages[0]['href']\n",
    "    else:\n",
    "        return 'last page'"
   ]
  },
  {
   "cell_type": "code",
   "execution_count": 5,
   "metadata": {
    "id": "vVOfZpCA12oa"
   },
   "outputs": [],
   "source": [
    "def collect_wiki_data(start_url):\n",
    "    term_definitions = {}\n",
    "    next_link = start_url\n",
    "\n",
    "    while next_link != 'last page':\n",
    "        print('crauling ' + next_link)\n",
    "        response = requests.get(next_link)\n",
    "        if response.status_code == 200:\n",
    "            soup = BeautifulSoup(response.content, 'html.parser')\n",
    "            get_terms_and_definitions(soup, term_definitions)\n",
    "            next_link = get_next_link(soup)\n",
    "    return term_definitions"
   ]
  },
  {
   "cell_type": "code",
   "execution_count": 6,
   "metadata": {
    "colab": {
     "base_uri": "https://localhost:8080/"
    },
    "id": "Hv_FNQXh3QjA",
    "outputId": "8c158f2c-0c08-4368-d0c9-88066fbe8206"
   },
   "outputs": [
    {
     "name": "stdout",
     "output_type": "stream",
     "text": [
      "crauling https://ru.wiktionary.org/wiki/%D0%9A%D0%B0%D1%82%D0%B5%D0%B3%D0%BE%D1%80%D0%B8%D1%8F:%D0%9B%D0%B8%D0%BD%D0%B3%D0%B2%D0%B8%D1%81%D1%82%D0%B8%D1%87%D0%B5%D1%81%D0%BA%D0%B8%D0%B5_%D1%82%D0%B5%D1%80%D0%BC%D0%B8%D0%BD%D1%8B/ru\n",
      "crauling https://ru.wiktionary.org/w/index.php?title=%D0%9A%D0%B0%D1%82%D0%B5%D0%B3%D0%BE%D1%80%D0%B8%D1%8F:%D0%9B%D0%B8%D0%BD%D0%B3%D0%B2%D0%B8%D1%81%D1%82%D0%B8%D1%87%D0%B5%D1%81%D0%BA%D0%B8%D0%B5_%D1%82%D0%B5%D1%80%D0%BC%D0%B8%D0%BD%D1%8B/ru&pagefrom=%D0%B0%D1%81%D0%BF%D0%B8%D1%80%D0%B0%D1%82%0A%D0%B0%D1%81%D0%BF%D0%B8%D1%80%D0%B0%D1%82#mw-pages\n",
      "crauling https://ru.wiktionary.org/w/index.php?title=%D0%9A%D0%B0%D1%82%D0%B5%D0%B3%D0%BE%D1%80%D0%B8%D1%8F:%D0%9B%D0%B8%D0%BD%D0%B3%D0%B2%D0%B8%D1%81%D1%82%D0%B8%D1%87%D0%B5%D1%81%D0%BA%D0%B8%D0%B5_%D1%82%D0%B5%D1%80%D0%BC%D0%B8%D0%BD%D1%8B/ru&pagefrom=%D0%B3%D0%B8%D0%B1%D1%80%D0%B8%D0%B4%0A%D0%B3%D0%B8%D0%B1%D1%80%D0%B8%D0%B4#mw-pages\n",
      "crauling https://ru.wiktionary.org/w/index.php?title=%D0%9A%D0%B0%D1%82%D0%B5%D0%B3%D0%BE%D1%80%D0%B8%D1%8F:%D0%9B%D0%B8%D0%BD%D0%B3%D0%B2%D0%B8%D1%81%D1%82%D0%B8%D1%87%D0%B5%D1%81%D0%BA%D0%B8%D0%B5_%D1%82%D0%B5%D1%80%D0%BC%D0%B8%D0%BD%D1%8B/ru&pagefrom=%D0%B4%D0%B8%D0%B0%D0%BB%D0%B5%D0%BA%D1%82%D0%BD%D1%8B%D0%B9%0A%D0%B4%D0%B8%D0%B0%D0%BB%D0%B5%D0%BA%D1%82%D0%BD%D1%8B%D0%B9#mw-pages\n",
      "crauling https://ru.wiktionary.org/w/index.php?title=%D0%9A%D0%B0%D1%82%D0%B5%D0%B3%D0%BE%D1%80%D0%B8%D1%8F:%D0%9B%D0%B8%D0%BD%D0%B3%D0%B2%D0%B8%D1%81%D1%82%D0%B8%D1%87%D0%B5%D1%81%D0%BA%D0%B8%D0%B5_%D1%82%D0%B5%D1%80%D0%BC%D0%B8%D0%BD%D1%8B/ru&pagefrom=%D0%B8%D0%BD%D1%81%D1%83%D0%BB%D0%BE%D0%BD%D0%B8%D0%BC%0A%D0%B8%D0%BD%D1%81%D1%83%D0%BB%D0%BE%D0%BD%D0%B8%D0%BC#mw-pages\n",
      "crauling https://ru.wiktionary.org/w/index.php?title=%D0%9A%D0%B0%D1%82%D0%B5%D0%B3%D0%BE%D1%80%D0%B8%D1%8F:%D0%9B%D0%B8%D0%BD%D0%B3%D0%B2%D0%B8%D1%81%D1%82%D0%B8%D1%87%D0%B5%D1%81%D0%BA%D0%B8%D0%B5_%D1%82%D0%B5%D1%80%D0%BC%D0%B8%D0%BD%D1%8B/ru&pagefrom=%D0%BA%D0%BE%D1%80%D1%80%D0%B5%D0%BB%D1%8F%D1%82%D0%B8%D0%B2%0A%D0%BA%D0%BE%D1%80%D1%80%D0%B5%D0%BB%D1%8F%D1%82%D0%B8%D0%B2#mw-pages\n",
      "crauling https://ru.wiktionary.org/w/index.php?title=%D0%9A%D0%B0%D1%82%D0%B5%D0%B3%D0%BE%D1%80%D0%B8%D1%8F:%D0%9B%D0%B8%D0%BD%D0%B3%D0%B2%D0%B8%D1%81%D1%82%D0%B8%D1%87%D0%B5%D1%81%D0%BA%D0%B8%D0%B5_%D1%82%D0%B5%D1%80%D0%BC%D0%B8%D0%BD%D1%8B/ru&pagefrom=%D0%BC%D0%BE%D0%BD%D0%BE%D1%82%D0%BE%D0%BD%D0%B8%D1%87%D0%B5%D1%81%D0%BA%D0%B8%D0%B9%0A%D0%BC%D0%BE%D0%BD%D0%BE%D1%82%D0%BE%D0%BD%D0%B8%D1%87%D0%B5%D1%81%D0%BA%D0%B8%D0%B9#mw-pages\n",
      "crauling https://ru.wiktionary.org/w/index.php?title=%D0%9A%D0%B0%D1%82%D0%B5%D0%B3%D0%BE%D1%80%D0%B8%D1%8F:%D0%9B%D0%B8%D0%BD%D0%B3%D0%B2%D0%B8%D1%81%D1%82%D0%B8%D1%87%D0%B5%D1%81%D0%BA%D0%B8%D0%B5_%D1%82%D0%B5%D1%80%D0%BC%D0%B8%D0%BD%D1%8B/ru&pagefrom=%D0%BE%D0%B9%D0%BA%D0%BE%D0%BD%D0%B8%D0%BC%D0%B8%D0%BA%D0%BE%D0%BD%0A%D0%BE%D0%B9%D0%BA%D0%BE%D0%BD%D0%B8%D0%BC%D0%B8%D0%BA%D0%BE%D0%BD#mw-pages\n",
      "crauling https://ru.wiktionary.org/w/index.php?title=%D0%9A%D0%B0%D1%82%D0%B5%D0%B3%D0%BE%D1%80%D0%B8%D1%8F:%D0%9B%D0%B8%D0%BD%D0%B3%D0%B2%D0%B8%D1%81%D1%82%D0%B8%D1%87%D0%B5%D1%81%D0%BA%D0%B8%D0%B5_%D1%82%D0%B5%D1%80%D0%BC%D0%B8%D0%BD%D1%8B/ru&pagefrom=%D0%BF%D0%BB%D0%B0%D0%BD+%D0%B2%D1%8B%D1%80%D0%B0%D0%B6%D0%B5%D0%BD%D0%B8%D1%8F%0A%D0%BF%D0%BB%D0%B0%D0%BD+%D0%B2%D1%8B%D1%80%D0%B0%D0%B6%D0%B5%D0%BD%D0%B8%D1%8F#mw-pages\n",
      "crauling https://ru.wiktionary.org/w/index.php?title=%D0%9A%D0%B0%D1%82%D0%B5%D0%B3%D0%BE%D1%80%D0%B8%D1%8F:%D0%9B%D0%B8%D0%BD%D0%B3%D0%B2%D0%B8%D1%81%D1%82%D0%B8%D1%87%D0%B5%D1%81%D0%BA%D0%B8%D0%B5_%D1%82%D0%B5%D1%80%D0%BC%D0%B8%D0%BD%D1%8B/ru&pagefrom=%D0%BF%D1%80%D0%BE%D0%B4%D1%83%D0%BA%D1%82%D0%B8%D0%B2%D0%BD%D1%8B%D0%B9%0A%D0%BF%D1%80%D0%BE%D0%B4%D1%83%D0%BA%D1%82%D0%B8%D0%B2%D0%BD%D1%8B%D0%B9#mw-pages\n",
      "crauling https://ru.wiktionary.org/w/index.php?title=%D0%9A%D0%B0%D1%82%D0%B5%D0%B3%D0%BE%D1%80%D0%B8%D1%8F:%D0%9B%D0%B8%D0%BD%D0%B3%D0%B2%D0%B8%D1%81%D1%82%D0%B8%D1%87%D0%B5%D1%81%D0%BA%D0%B8%D0%B5_%D1%82%D0%B5%D1%80%D0%BC%D0%B8%D0%BD%D1%8B/ru&pagefrom=%D1%81%D0%B8%D0%BD%D1%82%D0%B0%D0%BA%D1%81%D0%B8%D1%87%D0%B5%D1%81%D0%BA%D0%B0%D1%8F+%D1%81%D0%B2%D1%8F%D0%B7%D1%8C%0A%D1%81%D0%B8%D0%BD%D1%82%D0%B0%D0%BA%D1%81%D0%B8%D1%87%D0%B5%D1%81%D0%BA%D0%B0%D1%8F+%D1%81%D0%B2%D1%8F%D0%B7%D1%8C#mw-pages\n",
      "crauling https://ru.wiktionary.org/w/index.php?title=%D0%9A%D0%B0%D1%82%D0%B5%D0%B3%D0%BE%D1%80%D0%B8%D1%8F:%D0%9B%D0%B8%D0%BD%D0%B3%D0%B2%D0%B8%D1%81%D1%82%D0%B8%D1%87%D0%B5%D1%81%D0%BA%D0%B8%D0%B5_%D1%82%D0%B5%D1%80%D0%BC%D0%B8%D0%BD%D1%8B/ru&pagefrom=%D1%81%D1%83%D0%BF%D0%B5%D1%80%D0%B0%D1%86%D0%B8%D1%8F%0A%D1%81%D1%83%D0%BF%D0%B5%D1%80%D0%B0%D1%86%D0%B8%D1%8F#mw-pages\n",
      "crauling https://ru.wiktionary.org/w/index.php?title=%D0%9A%D0%B0%D1%82%D0%B5%D0%B3%D0%BE%D1%80%D0%B8%D1%8F:%D0%9B%D0%B8%D0%BD%D0%B3%D0%B2%D0%B8%D1%81%D1%82%D0%B8%D1%87%D0%B5%D1%81%D0%BA%D0%B8%D0%B5_%D1%82%D0%B5%D1%80%D0%BC%D0%B8%D0%BD%D1%8B/ru&pagefrom=%D1%84%D0%BE%D0%BD%D0%B5%D0%BC%D0%BD%D1%8B%D0%B9%0A%D1%84%D0%BE%D0%BD%D0%B5%D0%BC%D0%BD%D1%8B%D0%B9#mw-pages\n",
      "crauling https://ru.wiktionary.org/w/index.php?title=%D0%9A%D0%B0%D1%82%D0%B5%D0%B3%D0%BE%D1%80%D0%B8%D1%8F:%D0%9B%D0%B8%D0%BD%D0%B3%D0%B2%D0%B8%D1%81%D1%82%D0%B8%D1%87%D0%B5%D1%81%D0%BA%D0%B8%D0%B5_%D1%82%D0%B5%D1%80%D0%BC%D0%B8%D0%BD%D1%8B/ru&pagefrom=%D1%8D%D1%82%D0%B8%D0%BC%D0%BE%D0%BB%D0%BE%D0%B3%D0%B8%D1%8F%0A%D1%8D%D1%82%D0%B8%D0%BC%D0%BE%D0%BB%D0%BE%D0%B3%D0%B8%D1%8F#mw-pages\n"
     ]
    }
   ],
   "source": [
    "term_definitions = collect_wiki_data(url)"
   ]
  },
  {
   "cell_type": "code",
   "execution_count": 7,
   "metadata": {
    "id": "H0t4NEj2Fdkm"
   },
   "outputs": [],
   "source": [
    "with open('definitions.txt', 'a', encoding='utf-8') as f:\n",
    "    for k, v in term_definitions.items():\n",
    "        line = 'term: ' + k + ', definition: ' + v + '\\n'\n",
    "        f.write(line)"
   ]
  }
 ],
 "metadata": {
  "colab": {
   "provenance": []
  },
  "kernelspec": {
   "display_name": "Python 3 (ipykernel)",
   "language": "python",
   "name": "python3"
  },
  "language_info": {
   "codemirror_mode": {
    "name": "ipython",
    "version": 3
   },
   "file_extension": ".py",
   "mimetype": "text/x-python",
   "name": "python",
   "nbconvert_exporter": "python",
   "pygments_lexer": "ipython3",
   "version": "3.9.13"
  }
 },
 "nbformat": 4,
 "nbformat_minor": 1
}
