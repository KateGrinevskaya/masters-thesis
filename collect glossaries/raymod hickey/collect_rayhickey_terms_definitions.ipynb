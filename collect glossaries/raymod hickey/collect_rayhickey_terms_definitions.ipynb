{
 "cells": [
  {
   "cell_type": "code",
   "execution_count": 48,
   "id": "71c20d54",
   "metadata": {},
   "outputs": [],
   "source": [
    "import requests\n",
    "from bs4 import BeautifulSoup\n",
    "from tqdm import tqdm\n",
    "import re"
   ]
  },
  {
   "cell_type": "code",
   "execution_count": 49,
   "id": "d123ce55",
   "metadata": {},
   "outputs": [],
   "source": [
    "url = \"http://www.raymondhickey.com/LinguisticGlossary.html\""
   ]
  },
  {
   "cell_type": "code",
   "execution_count": 54,
   "id": "246f2f33",
   "metadata": {},
   "outputs": [
    {
     "name": "stderr",
     "output_type": "stream",
     "text": [
      "100%|█████████████████████████████████████████| 369/369 [00:05<00:00, 70.77it/s]\n"
     ]
    }
   ],
   "source": [
    "response = requests.get(url)\n",
    "term_definitions = {}\n",
    "if response.status_code == 200:\n",
    "    soup = BeautifulSoup(response.content, 'html.parser')\n",
    "    ps = soup.find_all('p')\n",
    "    for p in tqdm(ps):\n",
    "        str_p = str(p.find_all('p'))\n",
    "        pairs = str_p.split('<p>')\n",
    "        for pair in pairs:\n",
    "            if '<b>' in pair and '</b>' in pair:\n",
    "                term, definition = pair.split('</b>')[0], pair.split('</b>')[-1]\n",
    "                term = term.split('<b>')[-1].strip()\n",
    "                definition = definition.strip()\n",
    "                definition = re.sub(r'(\\<(/?[^>]+)>)', '', definition)\n",
    "                if term and definition:\n",
    "                    term_definitions[term] = definition"
   ]
  },
  {
   "cell_type": "code",
   "execution_count": 56,
   "id": "cdcaf5ee",
   "metadata": {},
   "outputs": [],
   "source": [
    "with open('eng_definitions.txt', 'a', encoding='utf-8') as f:\n",
    "    for k, v in term_definitions.items():\n",
    "        line = 'term: ' + k + ', definition: ' + v + '\\n'\n",
    "        f.write(line)"
   ]
  },
  {
   "cell_type": "code",
   "execution_count": null,
   "id": "5b95f211",
   "metadata": {},
   "outputs": [],
   "source": []
  }
 ],
 "metadata": {
  "kernelspec": {
   "display_name": "Python 3 (ipykernel)",
   "language": "python",
   "name": "python3"
  },
  "language_info": {
   "codemirror_mode": {
    "name": "ipython",
    "version": 3
   },
   "file_extension": ".py",
   "mimetype": "text/x-python",
   "name": "python",
   "nbconvert_exporter": "python",
   "pygments_lexer": "ipython3",
   "version": "3.9.13"
  }
 },
 "nbformat": 4,
 "nbformat_minor": 5
}
