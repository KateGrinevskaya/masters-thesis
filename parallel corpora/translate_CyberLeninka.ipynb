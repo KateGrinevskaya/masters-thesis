{
  "cells": [
    {
      "cell_type": "markdown",
      "metadata": {
        "id": "qO_zKxYFH1SJ"
      },
      "source": [
        "# Model Initiation"
      ]
    },
    {
      "cell_type": "code",
      "execution_count": null,
      "metadata": {
        "id": "w05r6Kswm-3o"
      },
      "outputs": [],
      "source": [
        "from transformers import AutoTokenizer, AutoModelForCausalLM\n",
        "import torch\n",
        "from tqdm import tqdm\n",
        "import pandas as pd"
      ]
    },
    {
      "cell_type": "code",
      "execution_count": null,
      "metadata": {
        "colab": {
          "base_uri": "https://localhost:8080/",
          "height": 176,
          "referenced_widgets": [
            "d1759b3663694a77a1b202b61c86ac0d",
            "1de97e2a3f0b416382a212e2b8f1f652",
            "ede9fd5cc8a8487ea1c255134c977cf7",
            "44346bae0afa4ea9a5bbc3397476a614",
            "63271071daa64c1186b461790f158e46",
            "21ac441c422943cabaf29c33b98d7729",
            "865f60f13f4f4b5491d4ebaf7bae1aee",
            "05d6275533a44f28a7f6c15c922d8d51",
            "60bbbaf590fd4443bfdd9f36a113cf95",
            "2d34b5eebd73449e80071742fc5e6b69",
            "a44ea07a637f40e68d89f3c3e7e918f0"
          ]
        },
        "id": "5xme9FdToa6m",
        "outputId": "2e2acc8e-c23f-43f1-fc49-0955a6025848"
      },
      "outputs": [
        {
          "name": "stderr",
          "output_type": "stream",
          "text": [
            "/usr/local/lib/python3.11/dist-packages/huggingface_hub/utils/_auth.py:94: UserWarning: \n",
            "The secret `HF_TOKEN` does not exist in your Colab secrets.\n",
            "To authenticate with the Hugging Face Hub, create a token in your settings tab (https://huggingface.co/settings/tokens), set it as secret in your Google Colab and restart your session.\n",
            "You will be able to reuse this secret in all of your notebooks.\n",
            "Please note that authentication is recommended but still optional to access public models or datasets.\n",
            "  warnings.warn(\n"
          ]
        },
        {
          "data": {
            "application/vnd.jupyter.widget-view+json": {
              "model_id": "d1759b3663694a77a1b202b61c86ac0d",
              "version_major": 2,
              "version_minor": 0
            },
            "text/plain": [
              "Loading checkpoint shards:   0%|          | 0/4 [00:00<?, ?it/s]"
            ]
          },
          "metadata": {},
          "output_type": "display_data"
        }
      ],
      "source": [
        "MODEL_NAME_YA = \"yandex/YandexGPT-5-Lite-8B-instruct\"\n",
        "\n",
        "tokenizer_ya = AutoTokenizer.from_pretrained(MODEL_NAME_YA, legacy=False)\n",
        "model_ya = AutoModelForCausalLM.from_pretrained(\n",
        "   MODEL_NAME_YA,\n",
        "   device_map=\"cuda\",\n",
        "   torch_dtype=\"auto\",\n",
        ")"
      ]
    },
    {
      "cell_type": "markdown",
      "metadata": {
        "id": "sVxV3jAcH4hv"
      },
      "source": [
        "# Data Import"
      ]
    },
    {
      "cell_type": "code",
      "execution_count": null,
      "metadata": {
        "colab": {
          "base_uri": "https://localhost:8080/"
        },
        "id": "ip-D_Al6okRD",
        "outputId": "1fc54769-b92d-4ec0-b72c-34c4da804a78"
      },
      "outputs": [
        {
          "name": "stdout",
          "output_type": "stream",
          "text": [
            "Drive already mounted at /content/drive; to attempt to forcibly remount, call drive.mount(\"/content/drive\", force_remount=True).\n"
          ]
        }
      ],
      "source": [
        "from google.colab import drive\n",
        "drive.mount('/content/drive')"
      ]
    },
    {
      "cell_type": "code",
      "execution_count": null,
      "metadata": {
        "id": "lh9WN9UOoeAh"
      },
      "outputs": [],
      "source": [
        "data_path = \"/content/drive/My Drive/mag diploma/cyberleninka_ru_sents.txt\""
      ]
    },
    {
      "cell_type": "code",
      "execution_count": null,
      "metadata": {
        "id": "qLqYNdetq4qd"
      },
      "outputs": [],
      "source": [
        "with open(data_path, encoding='utf-8') as f:\n",
        "    sents = f.readlines()\n",
        "ru_sents = list(map(lambda x: x.replace('\\n', ''), sents))"
      ]
    },
    {
      "cell_type": "code",
      "execution_count": null,
      "metadata": {
        "colab": {
          "base_uri": "https://localhost:8080/"
        },
        "id": "8I_qsRjSrxdh",
        "outputId": "6bc14e5e-9c24-4964-ccfb-ad3b2413e1e5"
      },
      "outputs": [
        {
          "name": "stdout",
          "output_type": "stream",
          "text": [
            "Mean length is: 157.31399212404628\n",
            "Max length is: 1271\n"
          ]
        }
      ],
      "source": [
        "from statistics import mean\n",
        "\n",
        "\n",
        "print('Mean length is: ' + str(mean([len(i) for i in ru_sents])))\n",
        "print('Max length is: ' + str(max([len(i) for i in ru_sents])))"
      ]
    },
    {
      "cell_type": "markdown",
      "metadata": {
        "id": "uJ4qZFCYIFKF"
      },
      "source": [
        "# Playground"
      ]
    },
    {
      "cell_type": "code",
      "execution_count": null,
      "metadata": {
        "colab": {
          "base_uri": "https://localhost:8080/"
        },
        "id": "a5d0htmhzHMZ",
        "outputId": "34147737-c2a1-494f-8941-980032f874fe"
      },
      "outputs": [
        {
          "name": "stderr",
          "output_type": "stream",
          "text": [
            "The attention mask and the pad token id were not set. As a consequence, you may observe unexpected behavior. Please pass your input's `attention_mask` to obtain reliable results.\n",
            "Setting `pad_token_id` to `eos_token_id`:2 for open-end generation.\n",
            "The attention mask is not set and cannot be inferred from input because pad token is same as eos token. As a consequence, you may observe unexpected behavior. Please pass your input's `attention_mask` to obtain reliable results.\n"
          ]
        },
        {
          "name": "stdout",
          "output_type": "stream",
          "text": [
            "The Finnish ablative has the ending -lta or -ltä depending on vowel harmony.\n"
          ]
        }
      ],
      "source": [
        "input_text = \"Ты профессиональный переводчик. Переведи на английский язык: Финский аблатив имеет окончание -lta или -ltä в зависимости от гармонии гласных.\"\n",
        "messages = [{\"role\": \"user\", \"content\": input_text}]\n",
        "input_ids = tokenizer_ya.apply_chat_template(\n",
        "    messages, tokenize=True, return_tensors=\"pt\"\n",
        ")\n",
        "\n",
        "outputs = model_ya.generate(input_ids, max_new_tokens=1024)\n",
        "print(tokenizer_ya.decode(outputs[0][input_ids.size(1) :], skip_special_tokens=True))"
      ]
    },
    {
      "cell_type": "markdown",
      "metadata": {
        "id": "a2uMaMUaIJ2B"
      },
      "source": [
        "# Tranlsating sentences"
      ]
    },
    {
      "cell_type": "code",
      "execution_count": null,
      "metadata": {
        "id": "aCn1hBZhrF88"
      },
      "outputs": [],
      "source": [
        "PROMPT_START = 'Ты профессиональный переводчик. Переведи на английский язык:  '\n",
        "MAX_NEW_LENGTH = 100\n",
        "\n",
        "prompts_src = [[{\"role\": \"user\", \"content\": PROMPT_START + text}] for text in ru_sents]"
      ]
    },
    {
      "cell_type": "code",
      "execution_count": 3,
      "metadata": {
        "colab": {
          "base_uri": "https://localhost:8080/"
        },
        "id": "yzOxj3UdIe9W",
        "outputId": "b0d3d8b4-8b10-4d6f-981b-d8afadac939f"
      },
      "outputs": [
        {
          "name": "stderr",
          "output_type": "stream",
          "text": [
            "100%|██████████| 16252/16252 [2:46:46<00:00,  1.62it/s]\n"
          ]
        }
      ],
      "source": [
        "predictions_ya = []\n",
        "\n",
        "for prompt in prompts_src:\n",
        "    input_ids = tokenizer_ya.apply_chat_template(\n",
        "        prompt, tokenize=True, return_tensors=\"pt\"\n",
        "    )\n",
        "\n",
        "    outputs = model_ya.generate(input_ids, max_new_tokens=MAX_NEW_LENGTH)\n",
        "    answer = tokenizer_ya.decode(outputs[0][input_ids.size(1) :], skip_special_tokens=True)\n",
        "    predictions_ya.append(answer)"
      ]
    },
    {
      "cell_type": "code",
      "execution_count": null,
      "metadata": {
        "id": "6uBiHUv0EsBm"
      },
      "outputs": [],
      "source": [
        "df = pd.DataFrame({'ru': ru_sents, 'en': predictions_ya})"
      ]
    },
    {
      "cell_type": "code",
      "execution_count": null,
      "metadata": {
        "id": "SJiOuZidEmAV"
      },
      "outputs": [],
      "source": [
        "df.to_csv('cyberleninka.csv', sep='\\t')"
      ]
    }
  ],
  "metadata": {
    "colab": {
      "provenance": []
    },
    "kernelspec": {
      "display_name": "Python 3",
      "name": "python3"
    },
    "language_info": {
      "name": "python"
    },
    "widgets": {
      "application/vnd.jupyter.widget-state+json": {
        "05d6275533a44f28a7f6c15c922d8d51": {
          "model_module": "@jupyter-widgets/base",
          "model_module_version": "1.2.0",
          "model_name": "LayoutModel",
          "state": {
            "_model_module": "@jupyter-widgets/base",
            "_model_module_version": "1.2.0",
            "_model_name": "LayoutModel",
            "_view_count": null,
            "_view_module": "@jupyter-widgets/base",
            "_view_module_version": "1.2.0",
            "_view_name": "LayoutView",
            "align_content": null,
            "align_items": null,
            "align_self": null,
            "border": null,
            "bottom": null,
            "display": null,
            "flex": null,
            "flex_flow": null,
            "grid_area": null,
            "grid_auto_columns": null,
            "grid_auto_flow": null,
            "grid_auto_rows": null,
            "grid_column": null,
            "grid_gap": null,
            "grid_row": null,
            "grid_template_areas": null,
            "grid_template_columns": null,
            "grid_template_rows": null,
            "height": null,
            "justify_content": null,
            "justify_items": null,
            "left": null,
            "margin": null,
            "max_height": null,
            "max_width": null,
            "min_height": null,
            "min_width": null,
            "object_fit": null,
            "object_position": null,
            "order": null,
            "overflow": null,
            "overflow_x": null,
            "overflow_y": null,
            "padding": null,
            "right": null,
            "top": null,
            "visibility": null,
            "width": null
          }
        },
        "1de97e2a3f0b416382a212e2b8f1f652": {
          "model_module": "@jupyter-widgets/controls",
          "model_module_version": "1.5.0",
          "model_name": "HTMLModel",
          "state": {
            "_dom_classes": [],
            "_model_module": "@jupyter-widgets/controls",
            "_model_module_version": "1.5.0",
            "_model_name": "HTMLModel",
            "_view_count": null,
            "_view_module": "@jupyter-widgets/controls",
            "_view_module_version": "1.5.0",
            "_view_name": "HTMLView",
            "description": "",
            "description_tooltip": null,
            "layout": "IPY_MODEL_21ac441c422943cabaf29c33b98d7729",
            "placeholder": "​",
            "style": "IPY_MODEL_865f60f13f4f4b5491d4ebaf7bae1aee",
            "value": "Loading checkpoint shards: 100%"
          }
        },
        "21ac441c422943cabaf29c33b98d7729": {
          "model_module": "@jupyter-widgets/base",
          "model_module_version": "1.2.0",
          "model_name": "LayoutModel",
          "state": {
            "_model_module": "@jupyter-widgets/base",
            "_model_module_version": "1.2.0",
            "_model_name": "LayoutModel",
            "_view_count": null,
            "_view_module": "@jupyter-widgets/base",
            "_view_module_version": "1.2.0",
            "_view_name": "LayoutView",
            "align_content": null,
            "align_items": null,
            "align_self": null,
            "border": null,
            "bottom": null,
            "display": null,
            "flex": null,
            "flex_flow": null,
            "grid_area": null,
            "grid_auto_columns": null,
            "grid_auto_flow": null,
            "grid_auto_rows": null,
            "grid_column": null,
            "grid_gap": null,
            "grid_row": null,
            "grid_template_areas": null,
            "grid_template_columns": null,
            "grid_template_rows": null,
            "height": null,
            "justify_content": null,
            "justify_items": null,
            "left": null,
            "margin": null,
            "max_height": null,
            "max_width": null,
            "min_height": null,
            "min_width": null,
            "object_fit": null,
            "object_position": null,
            "order": null,
            "overflow": null,
            "overflow_x": null,
            "overflow_y": null,
            "padding": null,
            "right": null,
            "top": null,
            "visibility": null,
            "width": null
          }
        },
        "2d34b5eebd73449e80071742fc5e6b69": {
          "model_module": "@jupyter-widgets/base",
          "model_module_version": "1.2.0",
          "model_name": "LayoutModel",
          "state": {
            "_model_module": "@jupyter-widgets/base",
            "_model_module_version": "1.2.0",
            "_model_name": "LayoutModel",
            "_view_count": null,
            "_view_module": "@jupyter-widgets/base",
            "_view_module_version": "1.2.0",
            "_view_name": "LayoutView",
            "align_content": null,
            "align_items": null,
            "align_self": null,
            "border": null,
            "bottom": null,
            "display": null,
            "flex": null,
            "flex_flow": null,
            "grid_area": null,
            "grid_auto_columns": null,
            "grid_auto_flow": null,
            "grid_auto_rows": null,
            "grid_column": null,
            "grid_gap": null,
            "grid_row": null,
            "grid_template_areas": null,
            "grid_template_columns": null,
            "grid_template_rows": null,
            "height": null,
            "justify_content": null,
            "justify_items": null,
            "left": null,
            "margin": null,
            "max_height": null,
            "max_width": null,
            "min_height": null,
            "min_width": null,
            "object_fit": null,
            "object_position": null,
            "order": null,
            "overflow": null,
            "overflow_x": null,
            "overflow_y": null,
            "padding": null,
            "right": null,
            "top": null,
            "visibility": null,
            "width": null
          }
        },
        "44346bae0afa4ea9a5bbc3397476a614": {
          "model_module": "@jupyter-widgets/controls",
          "model_module_version": "1.5.0",
          "model_name": "HTMLModel",
          "state": {
            "_dom_classes": [],
            "_model_module": "@jupyter-widgets/controls",
            "_model_module_version": "1.5.0",
            "_model_name": "HTMLModel",
            "_view_count": null,
            "_view_module": "@jupyter-widgets/controls",
            "_view_module_version": "1.5.0",
            "_view_name": "HTMLView",
            "description": "",
            "description_tooltip": null,
            "layout": "IPY_MODEL_2d34b5eebd73449e80071742fc5e6b69",
            "placeholder": "​",
            "style": "IPY_MODEL_a44ea07a637f40e68d89f3c3e7e918f0",
            "value": " 4/4 [00:04&lt;00:00,  1.00it/s]"
          }
        },
        "60bbbaf590fd4443bfdd9f36a113cf95": {
          "model_module": "@jupyter-widgets/controls",
          "model_module_version": "1.5.0",
          "model_name": "ProgressStyleModel",
          "state": {
            "_model_module": "@jupyter-widgets/controls",
            "_model_module_version": "1.5.0",
            "_model_name": "ProgressStyleModel",
            "_view_count": null,
            "_view_module": "@jupyter-widgets/base",
            "_view_module_version": "1.2.0",
            "_view_name": "StyleView",
            "bar_color": null,
            "description_width": ""
          }
        },
        "63271071daa64c1186b461790f158e46": {
          "model_module": "@jupyter-widgets/base",
          "model_module_version": "1.2.0",
          "model_name": "LayoutModel",
          "state": {
            "_model_module": "@jupyter-widgets/base",
            "_model_module_version": "1.2.0",
            "_model_name": "LayoutModel",
            "_view_count": null,
            "_view_module": "@jupyter-widgets/base",
            "_view_module_version": "1.2.0",
            "_view_name": "LayoutView",
            "align_content": null,
            "align_items": null,
            "align_self": null,
            "border": null,
            "bottom": null,
            "display": null,
            "flex": null,
            "flex_flow": null,
            "grid_area": null,
            "grid_auto_columns": null,
            "grid_auto_flow": null,
            "grid_auto_rows": null,
            "grid_column": null,
            "grid_gap": null,
            "grid_row": null,
            "grid_template_areas": null,
            "grid_template_columns": null,
            "grid_template_rows": null,
            "height": null,
            "justify_content": null,
            "justify_items": null,
            "left": null,
            "margin": null,
            "max_height": null,
            "max_width": null,
            "min_height": null,
            "min_width": null,
            "object_fit": null,
            "object_position": null,
            "order": null,
            "overflow": null,
            "overflow_x": null,
            "overflow_y": null,
            "padding": null,
            "right": null,
            "top": null,
            "visibility": null,
            "width": null
          }
        },
        "865f60f13f4f4b5491d4ebaf7bae1aee": {
          "model_module": "@jupyter-widgets/controls",
          "model_module_version": "1.5.0",
          "model_name": "DescriptionStyleModel",
          "state": {
            "_model_module": "@jupyter-widgets/controls",
            "_model_module_version": "1.5.0",
            "_model_name": "DescriptionStyleModel",
            "_view_count": null,
            "_view_module": "@jupyter-widgets/base",
            "_view_module_version": "1.2.0",
            "_view_name": "StyleView",
            "description_width": ""
          }
        },
        "a44ea07a637f40e68d89f3c3e7e918f0": {
          "model_module": "@jupyter-widgets/controls",
          "model_module_version": "1.5.0",
          "model_name": "DescriptionStyleModel",
          "state": {
            "_model_module": "@jupyter-widgets/controls",
            "_model_module_version": "1.5.0",
            "_model_name": "DescriptionStyleModel",
            "_view_count": null,
            "_view_module": "@jupyter-widgets/base",
            "_view_module_version": "1.2.0",
            "_view_name": "StyleView",
            "description_width": ""
          }
        },
        "d1759b3663694a77a1b202b61c86ac0d": {
          "model_module": "@jupyter-widgets/controls",
          "model_module_version": "1.5.0",
          "model_name": "HBoxModel",
          "state": {
            "_dom_classes": [],
            "_model_module": "@jupyter-widgets/controls",
            "_model_module_version": "1.5.0",
            "_model_name": "HBoxModel",
            "_view_count": null,
            "_view_module": "@jupyter-widgets/controls",
            "_view_module_version": "1.5.0",
            "_view_name": "HBoxView",
            "box_style": "",
            "children": [
              "IPY_MODEL_1de97e2a3f0b416382a212e2b8f1f652",
              "IPY_MODEL_ede9fd5cc8a8487ea1c255134c977cf7",
              "IPY_MODEL_44346bae0afa4ea9a5bbc3397476a614"
            ],
            "layout": "IPY_MODEL_63271071daa64c1186b461790f158e46"
          }
        },
        "ede9fd5cc8a8487ea1c255134c977cf7": {
          "model_module": "@jupyter-widgets/controls",
          "model_module_version": "1.5.0",
          "model_name": "FloatProgressModel",
          "state": {
            "_dom_classes": [],
            "_model_module": "@jupyter-widgets/controls",
            "_model_module_version": "1.5.0",
            "_model_name": "FloatProgressModel",
            "_view_count": null,
            "_view_module": "@jupyter-widgets/controls",
            "_view_module_version": "1.5.0",
            "_view_name": "ProgressView",
            "bar_style": "success",
            "description": "",
            "description_tooltip": null,
            "layout": "IPY_MODEL_05d6275533a44f28a7f6c15c922d8d51",
            "max": 4,
            "min": 0,
            "orientation": "horizontal",
            "style": "IPY_MODEL_60bbbaf590fd4443bfdd9f36a113cf95",
            "value": 4
          }
        }
      }
    }
  },
  "nbformat": 4,
  "nbformat_minor": 0
}
